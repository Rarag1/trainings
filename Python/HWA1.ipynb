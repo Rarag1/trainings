{
 "cells": [
  {
   "cell_type": "markdown",
   "id": "802dff39",
   "metadata": {},
   "source": [
    "## Условие 1:\n",
    "Оформляйте ноутбук, используя эти советы:\n",
    "- Номер задачи - заголовок 2\n",
    "- Номер подзадачи - заголовок 3<br>\n",
    "\n",
    "Предоставленные наборы данных оформляйте, как код"
   ]
  },
  {
   "cell_type": "markdown",
   "id": "96bf484a",
   "metadata": {},
   "source": [
    "## Условие 2:\n",
    "На складе лежат разные фрукты в разном количестве.\n",
    "Нужно написать функцию, которая на вход принимает любое количество названий фруктов и их количество, а возвращает общее количество фруктов на складе"
   ]
  },
  {
   "cell_type": "code",
   "execution_count": 1,
   "id": "2ee24f4c",
   "metadata": {},
   "outputs": [],
   "source": [
    "def total(fruits):\n",
    "    return sum(fruits.values())"
   ]
  },
  {
   "cell_type": "code",
   "execution_count": 2,
   "id": "65bdf3da",
   "metadata": {},
   "outputs": [],
   "source": [
    "fruits = {'apples': 10, 'pears': 20, 'bananas': 30}"
   ]
  },
  {
   "cell_type": "code",
   "execution_count": 3,
   "id": "a7a1cb27",
   "metadata": {},
   "outputs": [
    {
     "data": {
      "text/plain": [
       "60"
      ]
     },
     "execution_count": 3,
     "metadata": {},
     "output_type": "execute_result"
    }
   ],
   "source": [
    "total(fruits)"
   ]
  },
  {
   "cell_type": "code",
   "execution_count": 4,
   "id": "1cf56995",
   "metadata": {},
   "outputs": [],
   "source": [
    "def total1(**fruits):\n",
    "    return sum(fruits.values())"
   ]
  },
  {
   "cell_type": "code",
   "execution_count": 5,
   "id": "34071c67",
   "metadata": {},
   "outputs": [
    {
     "data": {
      "text/plain": [
       "60"
      ]
     },
     "execution_count": 5,
     "metadata": {},
     "output_type": "execute_result"
    }
   ],
   "source": [
    "total1(apples=10, pears=20, bananas=30)"
   ]
  },
  {
   "cell_type": "markdown",
   "id": "09f68684",
   "metadata": {},
   "source": [
    "## Условие 3:\n",
    "Дан список с затратами на рекламу. Но в данных есть ошибки, некоторые затраты имеют отрицательную величину. Удалите такие значения из списка и посчитайте суммарные затраты\n",
    "[100, 125, -90, 345, 655, -1, 0, 200]\n",
    "Используйте list comprehensions"
   ]
  },
  {
   "cell_type": "code",
   "execution_count": 6,
   "id": "ac88f0cc",
   "metadata": {},
   "outputs": [
    {
     "name": "stdout",
     "output_type": "stream",
     "text": [
      "Сумма списка [100, 125, 345, 655, 200] равна 1425.\n"
     ]
    }
   ],
   "source": [
    "expenses=[100, 125, -90, 345, 655, -1, 0, 200]\n",
    "expenses1=[i for i in expenses if i>0]\n",
    "print(f'Сумма списка {expenses1} равна {sum(expenses1)}.')"
   ]
  },
  {
   "cell_type": "markdown",
   "id": "787a43b4",
   "metadata": {},
   "source": [
    "## Условие 4:\n",
    "Даны два списка.<br>\n",
    "Дата покупки\n",
    "['2021-09-14', '2021-12-15', '2021-09-08', '2021-12-05', '2021-10-09', '2021-09-30', '2021-12-22', '2021-11-29', '2021-12-24', '2021-11-26', '2021-10-27', '2021-12-18', '2021-11-09', '2021-11-23', '2021-09-27', '2021-10-02', '2021-12-27', '2021-09-20', '2021-12-13', '2021-11-01', '2021-11-09', '2021-12-06', '2021-12-08', '2021-10-09', '2021-10-31', '2021-09-30', '2021-11-09', '2021-12-13', '2021-10-26', '2021-12-09']<br>\n",
    "Суммы покупок по датам\n",
    "[1270, 8413, 9028, 3703, 5739, 4095, 295, 4944, 5723, 3701, 4471, 651, 7037, 4274, 6275, 4988, 6930, 2971, 6592, 2004, 2822, 519, 3406, 2732, 5015, 2008, 316, 6333, 5700, 2887]\n",
    "### 4.1 Найдите, какая выручка у компании в ноябре\n",
    "Используйте list comprehensions"
   ]
  },
  {
   "cell_type": "code",
   "execution_count": 7,
   "id": "f64aafca",
   "metadata": {},
   "outputs": [],
   "source": [
    "date = ['2021-09-14', '2021-12-15', '2021-09-08', '2021-12-05', '2021-10-09', '2021-09-30', '2021-12-22', '2021-11-29', '2021-12-24', '2021-11-26', '2021-10-27', '2021-12-18', '2021-11-09', '2021-11-23', '2021-09-27', '2021-10-02', '2021-12-27', '2021-09-20', '2021-12-13', '2021-11-01', '2021-11-09', '2021-12-06', '2021-12-08', '2021-10-09', '2021-10-31', '2021-09-30', '2021-11-09', '2021-12-13', '2021-10-26', '2021-12-09']\n",
    "value = [1270, 8413, 9028, 3703, 5739, 4095, 295, 4944, 5723, 3701, 4471, 651, 7037, 4274, 6275, 4988, 6930, 2971, 6592, 2004, 2822, 519, 3406, 2732, 5015, 2008, 316, 6333, 5700, 2887]"
   ]
  },
  {
   "cell_type": "code",
   "execution_count": 8,
   "id": "5bd37659",
   "metadata": {},
   "outputs": [
    {
     "data": {
      "text/plain": [
       "{'2021-09-14': 1270,\n",
       " '2021-12-15': 8413,\n",
       " '2021-09-08': 9028,\n",
       " '2021-12-05': 3703,\n",
       " '2021-10-09': 2732,\n",
       " '2021-09-30': 2008,\n",
       " '2021-12-22': 295,\n",
       " '2021-11-29': 4944,\n",
       " '2021-12-24': 5723,\n",
       " '2021-11-26': 3701,\n",
       " '2021-10-27': 4471,\n",
       " '2021-12-18': 651,\n",
       " '2021-11-09': 316,\n",
       " '2021-11-23': 4274,\n",
       " '2021-09-27': 6275,\n",
       " '2021-10-02': 4988,\n",
       " '2021-12-27': 6930,\n",
       " '2021-09-20': 2971,\n",
       " '2021-12-13': 6333,\n",
       " '2021-11-01': 2004,\n",
       " '2021-12-06': 519,\n",
       " '2021-12-08': 3406,\n",
       " '2021-10-31': 5015,\n",
       " '2021-10-26': 5700,\n",
       " '2021-12-09': 2887}"
      ]
     },
     "execution_count": 8,
     "metadata": {},
     "output_type": "execute_result"
    }
   ],
   "source": [
    "dict01={date[i]:value[i] for i in range(len(date))}\n",
    "dict01"
   ]
  },
  {
   "cell_type": "code",
   "execution_count": 9,
   "id": "d70f7924",
   "metadata": {},
   "outputs": [
    {
     "data": {
      "text/plain": [
       "{1270: '2021-09-14',\n",
       " 8413: '2021-12-15',\n",
       " 9028: '2021-09-08',\n",
       " 3703: '2021-12-05',\n",
       " 5739: '2021-10-09',\n",
       " 4095: '2021-09-30',\n",
       " 295: '2021-12-22',\n",
       " 4944: '2021-11-29',\n",
       " 5723: '2021-12-24',\n",
       " 3701: '2021-11-26',\n",
       " 4471: '2021-10-27',\n",
       " 651: '2021-12-18',\n",
       " 7037: '2021-11-09',\n",
       " 4274: '2021-11-23',\n",
       " 6275: '2021-09-27',\n",
       " 4988: '2021-10-02',\n",
       " 6930: '2021-12-27',\n",
       " 2971: '2021-09-20',\n",
       " 6592: '2021-12-13',\n",
       " 2004: '2021-11-01',\n",
       " 2822: '2021-11-09',\n",
       " 519: '2021-12-06',\n",
       " 3406: '2021-12-08',\n",
       " 2732: '2021-10-09',\n",
       " 5015: '2021-10-31',\n",
       " 2008: '2021-09-30',\n",
       " 316: '2021-11-09',\n",
       " 6333: '2021-12-13',\n",
       " 5700: '2021-10-26',\n",
       " 2887: '2021-12-09'}"
      ]
     },
     "execution_count": 9,
     "metadata": {},
     "output_type": "execute_result"
    }
   ],
   "source": [
    "dict02={value[i]:date[i] for i in range(len(value))}\n",
    "dict02"
   ]
  },
  {
   "cell_type": "code",
   "execution_count": 10,
   "id": "d1988564",
   "metadata": {},
   "outputs": [
    {
     "name": "stdout",
     "output_type": "stream",
     "text": [
      "30 30 25 30\n"
     ]
    }
   ],
   "source": [
    "print(len(date),len(value),len(dict01),len(dict02))"
   ]
  },
  {
   "cell_type": "code",
   "execution_count": 11,
   "id": "25cbe4e8",
   "metadata": {},
   "outputs": [
    {
     "data": {
      "text/plain": [
       "{'2021-11-29': 4944,\n",
       " '2021-11-26': 3701,\n",
       " '2021-11-09': 316,\n",
       " '2021-11-23': 4274,\n",
       " '2021-11-01': 2004}"
      ]
     },
     "execution_count": 11,
     "metadata": {},
     "output_type": "execute_result"
    }
   ],
   "source": [
    "dict011={date[i]:value[i] for i in range(len(date)) if date[i][5:7] =='11'}\n",
    "dict011"
   ]
  },
  {
   "cell_type": "code",
   "execution_count": 12,
   "id": "268b94c4",
   "metadata": {},
   "outputs": [
    {
     "data": {
      "text/plain": [
       "15239"
      ]
     },
     "execution_count": 12,
     "metadata": {},
     "output_type": "execute_result"
    }
   ],
   "source": [
    "# неверно ноябрь\n",
    "sum(dict011.values())"
   ]
  },
  {
   "cell_type": "code",
   "execution_count": 13,
   "id": "38337304",
   "metadata": {},
   "outputs": [
    {
     "data": {
      "text/plain": [
       "{4944: '2021-11-29',\n",
       " 3701: '2021-11-26',\n",
       " 7037: '2021-11-09',\n",
       " 4274: '2021-11-23',\n",
       " 2004: '2021-11-01',\n",
       " 2822: '2021-11-09',\n",
       " 316: '2021-11-09'}"
      ]
     },
     "execution_count": 13,
     "metadata": {},
     "output_type": "execute_result"
    }
   ],
   "source": [
    "dict11={value[i]:date[i] for i in range(len(value)) if date[i][5:7] =='11'}\n",
    "dict11"
   ]
  },
  {
   "cell_type": "code",
   "execution_count": 14,
   "id": "25002ddf",
   "metadata": {},
   "outputs": [
    {
     "data": {
      "text/plain": [
       "25098"
      ]
     },
     "execution_count": 14,
     "metadata": {},
     "output_type": "execute_result"
    }
   ],
   "source": [
    "# верно ноябрь\n",
    "sum(dict11.keys())"
   ]
  },
  {
   "cell_type": "code",
   "execution_count": 15,
   "id": "46bdd10b",
   "metadata": {},
   "outputs": [
    {
     "data": {
      "text/plain": [
       "25647"
      ]
     },
     "execution_count": 15,
     "metadata": {},
     "output_type": "execute_result"
    }
   ],
   "source": [
    "# верно сентябрь\n",
    "dict09={value[i]:date[i] for i in range(len(date)) if date[i][5:7] =='09'}\n",
    "sum(dict09.keys())"
   ]
  },
  {
   "cell_type": "code",
   "execution_count": 16,
   "id": "878e103e",
   "metadata": {},
   "outputs": [
    {
     "data": {
      "text/plain": [
       "28645"
      ]
     },
     "execution_count": 16,
     "metadata": {},
     "output_type": "execute_result"
    }
   ],
   "source": [
    "# верно октябрь\n",
    "dict10={value[i]:date[i] for i in range(len(date)) if date[i][5:7] =='10'}\n",
    "sum(dict10.keys())"
   ]
  },
  {
   "cell_type": "code",
   "execution_count": 17,
   "id": "1cf737a2",
   "metadata": {},
   "outputs": [
    {
     "data": {
      "text/plain": [
       "45452"
      ]
     },
     "execution_count": 17,
     "metadata": {},
     "output_type": "execute_result"
    }
   ],
   "source": [
    "# верно декабрь\n",
    "dict12={value[i]:date[i] for i in range(len(date)) if date[i][5:7] =='12'}\n",
    "sum(dict12.keys())"
   ]
  },
  {
   "cell_type": "markdown",
   "id": "f46e9f1c",
   "metadata": {},
   "source": [
    "### 4.2 Найдите выручку компании в зависимости от месяца\n",
    "Для этого напишите функцию, которая на вход принимает список с датами и список с выручкой, а на выходе словарь, где ключи - это месяцы, а значения - это выручка. Используйте аннотирование типов."
   ]
  },
  {
   "cell_type": "code",
   "execution_count": 18,
   "id": "d8efe4a0",
   "metadata": {},
   "outputs": [
    {
     "name": "stdout",
     "output_type": "stream",
     "text": [
      "В 09 месяце выручка равна 25647.\n",
      "В 10 месяце выручка равна 28645.\n",
      "В 11 месяце выручка равна 25098.\n",
      "В 12 месяце выручка равна 45452.\n"
     ]
    },
    {
     "data": {
      "text/plain": [
       "{'09': 25647, '12': 45452, '10': 28645, '11': 25098}"
      ]
     },
     "execution_count": 18,
     "metadata": {},
     "output_type": "execute_result"
    }
   ],
   "source": [
    "def sum_per_month(date: list, value: list) -> dict:\n",
    "    res = {}\n",
    "    for d, v in zip(date, value):\n",
    "        if d[5:7] in res.keys():\n",
    "            res[d[5:7]] += v\n",
    "        else:\n",
    "            res[d[5:7]] = v\n",
    "    for key in sorted(res):\n",
    "        print(f'В {key} месяце выручка равна {res[key]}.')\n",
    "    return res\n",
    "\n",
    "sum_per_month(date, value)"
   ]
  }
 ],
 "metadata": {
  "kernelspec": {
   "display_name": "Python 3 (ipykernel)",
   "language": "python",
   "name": "python3"
  },
  "language_info": {
   "codemirror_mode": {
    "name": "ipython",
    "version": 3
   },
   "file_extension": ".py",
   "mimetype": "text/x-python",
   "name": "python",
   "nbconvert_exporter": "python",
   "pygments_lexer": "ipython3",
   "version": "3.9.13"
  }
 },
 "nbformat": 4,
 "nbformat_minor": 5
}
