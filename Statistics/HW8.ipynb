{
 "cells": [
  {
   "cell_type": "markdown",
   "id": "950b1b34",
   "metadata": {},
   "source": [
    "#### 1.Даны значения величины заработной платы заемщиков банка (zp) и значения их поведенческого кредитного скоринга (ks): \n",
    "zp = [35, 45, 190, 200, 40, 70, 54, 150, 120, 110],<br>\n",
    "ks = [401, 574, 874, 919, 459, 739, 653, 902, 746, 832].<br>\n",
    "Найдите ковариацию этих двух величин с помощью элементарных действий, а затем с помощью функции cov из numpy. Полученные значения должны быть равны.<br>\n",
    "Найдите коэффициент корреляции Пирсона с помощью ковариации и среднеквадратичных отклонений двух признаков, а затем с использованием функций из библиотек numpy и pandas."
   ]
  },
  {
   "cell_type": "code",
   "execution_count": 1,
   "id": "aae03aca",
   "metadata": {},
   "outputs": [],
   "source": [
    "import numpy as np\n",
    "import pandas as pd\n",
    "from scipy import stats\n",
    "import matplotlib.pyplot as plt\n",
    "zp = np.array([35, 45, 190, 200, 40, 70, 54, 150, 120, 110])\n",
    "ks = np.array([401, 574, 874, 919, 459, 739, 653, 902, 746, 832])"
   ]
  },
  {
   "cell_type": "code",
   "execution_count": 2,
   "id": "42447e3c",
   "metadata": {},
   "outputs": [
    {
     "name": "stdout",
     "output_type": "stream",
     "text": [
      "m1 = 101.4 ; m2 = 709.9 ; m3 = 81141.7\n"
     ]
    }
   ],
   "source": [
    "m3=np.mean(zp*ks)\n",
    "m1=zp.mean()\n",
    "m2=ks.mean()\n",
    "print(\"m1 =\", m1, \"; m2 =\", m2, \"; m3 =\", m3)"
   ]
  },
  {
   "cell_type": "code",
   "execution_count": 3,
   "id": "a64d990c",
   "metadata": {},
   "outputs": [
    {
     "data": {
      "text/plain": [
       "9157.84"
      ]
     },
     "execution_count": 3,
     "metadata": {},
     "output_type": "execute_result"
    }
   ],
   "source": [
    "cov = np.mean(zp*ks) - zp.mean() * ks.mean()\n",
    "round(cov, 2)"
   ]
  },
  {
   "cell_type": "code",
   "execution_count": 4,
   "id": "598afc5a",
   "metadata": {},
   "outputs": [
    {
     "data": {
      "text/plain": [
       "array([[ 3494.64,  9157.84],\n",
       "       [ 9157.84, 30468.89]])"
      ]
     },
     "execution_count": 4,
     "metadata": {},
     "output_type": "execute_result"
    }
   ],
   "source": [
    "np.cov(zp,ks, ddof=0)"
   ]
  },
  {
   "cell_type": "code",
   "execution_count": 5,
   "id": "417f0e1b",
   "metadata": {},
   "outputs": [
    {
     "name": "stdout",
     "output_type": "stream",
     "text": [
      "s1 = 59.115480206118605 ; s2 = 174.55340157098058\n"
     ]
    }
   ],
   "source": [
    "s1=zp.std()\n",
    "s2=ks.std()\n",
    "print(\"s1 =\", s1, \"; s2 =\", s2)"
   ]
  },
  {
   "cell_type": "code",
   "execution_count": 6,
   "id": "dbbab110",
   "metadata": {},
   "outputs": [
    {
     "data": {
      "text/plain": [
       "0.8874900920739158"
      ]
     },
     "execution_count": 6,
     "metadata": {},
     "output_type": "execute_result"
    }
   ],
   "source": [
    "r = cov / (zp.std() * ks.std())\n",
    "r"
   ]
  },
  {
   "cell_type": "code",
   "execution_count": 7,
   "id": "6eb37748",
   "metadata": {},
   "outputs": [
    {
     "data": {
      "text/plain": [
       "array([[1.        , 0.88749009],\n",
       "       [0.88749009, 1.        ]])"
      ]
     },
     "execution_count": 7,
     "metadata": {},
     "output_type": "execute_result"
    }
   ],
   "source": [
    "np.corrcoef(zp,ks)"
   ]
  },
  {
   "cell_type": "code",
   "execution_count": 8,
   "id": "3f413a2d",
   "metadata": {},
   "outputs": [
    {
     "data": {
      "text/html": [
       "<div>\n",
       "<style scoped>\n",
       "    .dataframe tbody tr th:only-of-type {\n",
       "        vertical-align: middle;\n",
       "    }\n",
       "\n",
       "    .dataframe tbody tr th {\n",
       "        vertical-align: top;\n",
       "    }\n",
       "\n",
       "    .dataframe thead th {\n",
       "        text-align: right;\n",
       "    }\n",
       "</style>\n",
       "<table border=\"1\" class=\"dataframe\">\n",
       "  <thead>\n",
       "    <tr style=\"text-align: right;\">\n",
       "      <th></th>\n",
       "      <th>Зарплата</th>\n",
       "      <th>К.скоринг</th>\n",
       "    </tr>\n",
       "  </thead>\n",
       "  <tbody>\n",
       "    <tr>\n",
       "      <th>Зарплата</th>\n",
       "      <td>1.00000</td>\n",
       "      <td>0.88749</td>\n",
       "    </tr>\n",
       "    <tr>\n",
       "      <th>К.скоринг</th>\n",
       "      <td>0.88749</td>\n",
       "      <td>1.00000</td>\n",
       "    </tr>\n",
       "  </tbody>\n",
       "</table>\n",
       "</div>"
      ],
      "text/plain": [
       "           Зарплата  К.скоринг\n",
       "Зарплата    1.00000    0.88749\n",
       "К.скоринг   0.88749    1.00000"
      ]
     },
     "execution_count": 8,
     "metadata": {},
     "output_type": "execute_result"
    }
   ],
   "source": [
    "data = pd.DataFrame({\"Зарплата\":zp, \"К.скоринг\":ks})\n",
    "data.corr()"
   ]
  },
  {
   "cell_type": "code",
   "execution_count": 9,
   "id": "4a216c92",
   "metadata": {},
   "outputs": [
    {
     "data": {
      "image/png": "[encoded data removed]",
      "text/plain": [
       "<Figure size 640x480 with 1 Axes>"
      ]
     },
     "metadata": {},
     "output_type": "display_data"
    }
   ],
   "source": [
    "plt.scatter(zp,ks)\n",
    "plt.xlabel('Зарплата')\n",
    "plt.ylabel('Кредитный скоринг', rotation=90)\n",
    "plt.show()"
   ]
  },
  {
   "attachments": {},
   "cell_type": "markdown",
   "id": "191e8177",
   "metadata": {},
   "source": [
    "При расчете вручную ковариация равна 9157.84, что соответствует значению смещенной ковариации, расчитанной по формуле из numpy.<br>\n",
    "Поделим смещенную ковариацию на произведение смещенных же стандартных отклонений и получим коэффициент корреляции Пирсона = 0.88749, что и в результатах выдачи функции numpy.corrcoef() и метода corr() в pandas.<br>\n",
    "Довольно сильная корреляция (почти 0.89 из 1.00): значит с большой вероятностью существует сильная линейная зависимость между исходными данными.\n"
   ]
  },
  {
   "cell_type": "markdown",
   "id": "fb24aab7",
   "metadata": {},
   "source": [
    "#### 2. Измерены значения IQ выборки студентов, обучающихся в местных технических вузах:\n",
    "131, 125, 115, 122, 131, 115, 107, 99, 125, 111.<br>\n",
    "Известно, что в генеральной совокупности IQ распределен нормально. Найдите доверительный интервал для математического ожидания с надежностью 0.95."
   ]
  },
  {
   "cell_type": "code",
   "execution_count": 10,
   "id": "ec55a6ae",
   "metadata": {},
   "outputs": [
    {
     "name": "stdout",
     "output_type": "stream",
     "text": [
      "доверительный интервал [ 110.556 : 125.644 ]\n"
     ]
    }
   ],
   "source": [
    "X=np.array([131, 125, 115, 122, 131, 115, 107, 99, 125, 111])\n",
    "a=0.05\n",
    "n=len(X)\n",
    "x=X.mean()\n",
    "s = X.std(ddof=1)\n",
    "t = stats.t.ppf((1-a/2), n-1)\n",
    "x1 = x - t * (s / np.sqrt(n))\n",
    "x2 = x + t * (s / np.sqrt(n))\n",
    "print(\"доверительный интервал [\", round(x1,3), \":\", round(x2,3), \"]\")"
   ]
  },
  {
   "cell_type": "markdown",
   "id": "543556df",
   "metadata": {},
   "source": [
    "#### 3. Известно, что рост футболистов в сборной распределен нормально с дисперсией генеральной совокупности, равной 25 кв.см. Объем выборки равен 27, среднее выборочное составляет 174.2. Найдите доверительный интервал для математического ожидания с надежностью 0.95"
   ]
  },
  {
   "cell_type": "code",
   "execution_count": 11,
   "id": "1e009602",
   "metadata": {},
   "outputs": [
    {
     "name": "stdout",
     "output_type": "stream",
     "text": [
      "доверительный интервал [ 172.314 : 176.086 ]\n"
     ]
    }
   ],
   "source": [
    "d=25\n",
    "n=27\n",
    "x=174.2\n",
    "a=0.05\n",
    "z=1.96\n",
    "x1=x-z*(np.sqrt(d/n))\n",
    "x2=x+z*(np.sqrt(d/n))\n",
    "print(\"доверительный интервал [\", round(x1,3), \":\", round(x2,3), \"]\")"
   ]
  }
 ],
 "metadata": {
  "kernelspec": {
   "display_name": "Python 3 (ipykernel)",
   "language": "python",
   "name": "python3"
  },
  "language_info": {
   "codemirror_mode": {
    "name": "ipython",
    "version": 3
   },
   "file_extension": ".py",
   "mimetype": "text/x-python",
   "name": "python",
   "nbconvert_exporter": "python",
   "pygments_lexer": "ipython3",
   "version": "3.9.13"
  }
 },
 "nbformat": 4,
 "nbformat_minor": 5
}
