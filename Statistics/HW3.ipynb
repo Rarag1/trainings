{
 "cells": [
  {
   "cell_type": "markdown",
   "id": "d9c687f1",
   "metadata": {},
   "source": [
    "##### 1. Даны значения зарплат из выборки выпускников: 100, 80, 75, 77, 89, 33, 45, 25, 65, 17, 30, 24, 57, 55, 70, 75, 65, 84, 90, 150. Посчитать (желательно без использования статистических методов наподобие std, var, mean) среднее арифметическое, среднее квадратичное отклонение, смещенную и несмещенную оценки дисперсий для данной выборки."
   ]
  },
  {
   "cell_type": "code",
   "execution_count": 1,
   "id": "3ff1779e",
   "metadata": {},
   "outputs": [],
   "source": [
    "import numpy as np"
   ]
  },
  {
   "cell_type": "code",
   "execution_count": 2,
   "id": "3047dc58",
   "metadata": {},
   "outputs": [
    {
     "data": {
      "text/plain": [
       "array([100,  80,  75,  77,  89,  33,  45,  25,  65,  17,  30,  24,  57,\n",
       "        55,  70,  75,  65,  84,  90, 150])"
      ]
     },
     "execution_count": 2,
     "metadata": {},
     "output_type": "execute_result"
    }
   ],
   "source": [
    "n = np.array([100, 80, 75, 77, 89, 33, 45, 25, 65, 17, 30, 24, 57, 55, 70, 75, 65, 84, 90, 150])\n",
    "n"
   ]
  },
  {
   "cell_type": "code",
   "execution_count": 3,
   "id": "3ce0f70c",
   "metadata": {},
   "outputs": [
    {
     "data": {
      "text/plain": [
       "20"
      ]
     },
     "execution_count": 3,
     "metadata": {},
     "output_type": "execute_result"
    }
   ],
   "source": [
    "len(n)"
   ]
  },
  {
   "cell_type": "code",
   "execution_count": 4,
   "id": "2e8c966b",
   "metadata": {},
   "outputs": [
    {
     "data": {
      "text/plain": [
       "array([ 17,  24,  25,  30,  33,  45,  55,  57,  65,  65,  70,  75,  75,\n",
       "        77,  80,  84,  89,  90, 100, 150])"
      ]
     },
     "execution_count": 4,
     "metadata": {},
     "output_type": "execute_result"
    }
   ],
   "source": [
    "n.sort()\n",
    "n"
   ]
  },
  {
   "cell_type": "code",
   "execution_count": 5,
   "id": "11e3aef7",
   "metadata": {},
   "outputs": [
    {
     "data": {
      "text/plain": [
       "65.3"
      ]
     },
     "execution_count": 5,
     "metadata": {},
     "output_type": "execute_result"
    }
   ],
   "source": [
    "avg = n.sum() / len(n)\n",
    "avg"
   ]
  },
  {
   "cell_type": "code",
   "execution_count": 6,
   "id": "a1f03e63",
   "metadata": {},
   "outputs": [
    {
     "data": {
      "text/plain": [
       "65.3"
      ]
     },
     "execution_count": 6,
     "metadata": {},
     "output_type": "execute_result"
    }
   ],
   "source": [
    "n.mean()"
   ]
  },
  {
   "cell_type": "code",
   "execution_count": 7,
   "id": "86573b56",
   "metadata": {},
   "outputs": [
    {
     "name": "stdout",
     "output_type": "stream",
     "text": [
      "var1 = 950.11 var2 = 1000.1157894736842\n",
      "div1 = 30.823854398825596 div2 = 31.624607341019814\n"
     ]
    }
   ],
   "source": [
    "sub = 0\n",
    "for i in n: sub += (i - avg)**2\n",
    "    \n",
    "var1 = sub / len(n)\n",
    "var2 = sub / (len(n) -1)\n",
    "div1 = np.sqrt(var1)\n",
    "div2 = np.sqrt(var2)\n",
    "print(\"var1 =\", var1, \"var2 =\", var2)\n",
    "print(\"div1 =\", div1, \"div2 =\", div2)"
   ]
  },
  {
   "cell_type": "code",
   "execution_count": 8,
   "id": "410acbde",
   "metadata": {},
   "outputs": [
    {
     "data": {
      "text/plain": [
       "950.1099999999999"
      ]
     },
     "execution_count": 8,
     "metadata": {},
     "output_type": "execute_result"
    }
   ],
   "source": [
    "n.var()"
   ]
  },
  {
   "cell_type": "code",
   "execution_count": 9,
   "id": "4ba95b89",
   "metadata": {},
   "outputs": [
    {
     "data": {
      "text/plain": [
       "1000.115789473684"
      ]
     },
     "execution_count": 9,
     "metadata": {},
     "output_type": "execute_result"
    }
   ],
   "source": [
    "n.var(ddof=1)"
   ]
  },
  {
   "cell_type": "code",
   "execution_count": 10,
   "id": "3871635b",
   "metadata": {},
   "outputs": [
    {
     "data": {
      "text/plain": [
       "30.823854398825592"
      ]
     },
     "execution_count": 10,
     "metadata": {},
     "output_type": "execute_result"
    }
   ],
   "source": [
    "n.std()"
   ]
  },
  {
   "cell_type": "markdown",
   "id": "fca78e79",
   "metadata": {},
   "source": [
    "##### 2. В первом ящике находится 8 мячей, из которых 5 - белые. Во втором ящике - 12 мячей, из которых 5 белых. Из первого ящика вытаскивают случайным образом два мяча, из второго - 4. Какова вероятность того, что 3 мяча белые?"
   ]
  },
  {
   "cell_type": "code",
   "execution_count": 11,
   "id": "e5c0c2b3",
   "metadata": {},
   "outputs": [],
   "source": [
    "from math import factorial as fact"
   ]
  },
  {
   "cell_type": "markdown",
   "id": "e78821eb",
   "metadata": {},
   "source": [
    "P2 = C(2;5)C(0;3)/C(2;8) * C(1;5)C(3;7)/C(4;12) + C(1;5)C(1;3)/C(2;8) * C(2;5)C(2;7)/C(4;12) + C(0;5)C(2;3)/C(2;8) * C(3;5)C(1;7)/C(4;12)"
   ]
  },
  {
   "cell_type": "code",
   "execution_count": 12,
   "id": "b5210aad",
   "metadata": {},
   "outputs": [
    {
     "name": "stdout",
     "output_type": "stream",
     "text": [
      "P21 = 12.63 %\n",
      "P22 = 22.73 %\n",
      "P23 = 1.52 %\n",
      "P2 = 36.87 %\n"
     ]
    }
   ],
   "source": [
    "P21 = ((fact(5)/(fact(2)*fact(3)))*(fact(3)/(fact(0)*fact(3)))/(fact(8)/(fact(2)*fact(6))) * (fact(5)/(fact(1)*fact(4)))*(fact(7)/(fact(3)*fact(4)))/(fact(12)/(fact(4)*fact(8))))\n",
    "print(\"P21 =\",round(P21*100,2),\"%\")\n",
    "P22 = ((fact(5)/(fact(1)*fact(4)))*(fact(3)/(fact(1)*fact(2)))/(fact(8)/(fact(2)*fact(6))) * (fact(5)/(fact(2)*fact(3)))*(fact(7)/(fact(2)*fact(5)))/(fact(12)/(fact(4)*fact(8))))\n",
    "print(\"P22 =\",round(P22*100,2),\"%\")\n",
    "P23 = ((fact(5)/(fact(0)*fact(5)))*(fact(3)/(fact(2)*fact(1)))/(fact(8)/(fact(2)*fact(6))) * (fact(5)/(fact(3)*fact(2)))*(fact(7)/(fact(1)*fact(6)))/(fact(12)/(fact(4)*fact(8))))\n",
    "print(\"P23 =\",round(P23*100,2),\"%\")\n",
    "P2 = P21+P22+P23\n",
    "print(\"P2 =\",round(P2*100,2),\"%\")"
   ]
  },
  {
   "cell_type": "markdown",
   "id": "1995539a",
   "metadata": {},
   "source": [
    "##### 3. На соревновании по биатлону один из трех спортсменов стреляет и попадает в мишень. Вероятность попадания для первого спортсмена равна 0.9, для второго — 0.8, для третьего — 0.6. Найти вероятность того, что выстрел произведен: a). первым спортсменом б). вторым спортсменом в). третьим спортсменом."
   ]
  },
  {
   "cell_type": "markdown",
   "id": "6d5af6d9",
   "metadata": {},
   "source": [
    "A - попадание в цель,<br />\n",
    "B - выстрел стрелка<br />\n",
    "P(А) = P(A|B1)*P(B1) + P(A|B2)*P(B2) + P(A|B3)*P(B3) = 0.9 * 1/3 + 0.8 * 1/3 + 0.6 * 1/3<br />\n",
    "P(B|A) = P(A|B) * P(B) / P(A)<br />"
   ]
  },
  {
   "cell_type": "code",
   "execution_count": 13,
   "id": "3eabae0a",
   "metadata": {},
   "outputs": [
    {
     "name": "stdout",
     "output_type": "stream",
     "text": [
      "Bероятность того, что выстрел произведен: a)первым спортсменом = 39.13 % ; б)вторым спортсменом = 34.78 % ; в)третьим спортсменом = 26.09 %\n"
     ]
    }
   ],
   "source": [
    "PA3 = 0.9 * 1/3 + 0.8 * 1/3 + 0.6 * 1/3\n",
    "PA3\n",
    "PB31 = round((0.9 * 1/3)/PA3*100, 2)\n",
    "PB32 = round((0.8 * 1/3)/PA3*100, 2)\n",
    "PB33 = round((0.6 * 1/3)/PA3*100, 2)\n",
    "print(\"Bероятность того, что выстрел произведен: a)первым спортсменом =\", PB31, \"% ; б)вторым спортсменом =\", PB32, \"% ; в)третьим спортсменом =\", PB33, \"%\")"
   ]
  },
  {
   "cell_type": "markdown",
   "id": "ec5be68c",
   "metadata": {},
   "source": [
    "##### 4. В университет на факультеты A и B поступило равное количество студентов, а на факультет C студентов поступило столько же, сколько на A и B вместе. Вероятность того, что студент факультета A сдаст первую сессию, равна 0.8. Для студента факультета B эта вероятность равна 0.7, а для студента факультета C - 0.9. Студент сдал первую сессию. Какова вероятность, что он учится: a). на факультете A б). на факультете B в). на факультете C?"
   ]
  },
  {
   "cell_type": "markdown",
   "id": "b809020b",
   "metadata": {},
   "source": [
    "A - сессия сдана,<br />\n",
    "B - студент с факультета<br />\n",
    "P(А) = P(A|B1)*P(B1) + P(A|B2)*P(B2) + P(A|B3)*P(B3) = 0.8 * 1/4 + 0.7 * 1/4 + 0.9 * 1/2<br />\n",
    "P(B|A) = P(A|B) * P(B) / P(A)<br />"
   ]
  },
  {
   "cell_type": "code",
   "execution_count": 14,
   "id": "fa660e0f",
   "metadata": {},
   "outputs": [
    {
     "name": "stdout",
     "output_type": "stream",
     "text": [
      "Bероятность того, что он учится: a)на факультете A = 24.24 % ; б)на факультете B = 21.21 % ; в)на факультете C = 54.55 %\n"
     ]
    }
   ],
   "source": [
    "PA3 = 0.8 * 1/4 + 0.7 * 1/4 + 0.9 * 1/2\n",
    "PA3\n",
    "PB31 = round((0.8 * 1/4)/PA3*100, 2)\n",
    "PB32 = round((0.7 * 1/4)/PA3*100, 2)\n",
    "PB33 = round((0.9 * 1/2)/PA3*100, 2)\n",
    "print(\"Bероятность того, что он учится: a)на факультете A =\", PB31, \"% ; б)на факультете B =\", PB32, \"% ; в)на факультете C =\", PB33, \"%\")"
   ]
  },
  {
   "cell_type": "markdown",
   "id": "2a3606b8",
   "metadata": {},
   "source": [
    "##### 5. Устройство состоит из трех деталей. Для первой детали вероятность выйти из строя в первый месяц равна 0.1, для второй - 0.2, для третьей - 0.25. Какова вероятность того, что в первый месяц выйдут из строя: а). все детали б). только две детали в). хотя бы одна деталь г). от одной до двух деталей?"
   ]
  },
  {
   "cell_type": "code",
   "execution_count": 15,
   "id": "e9eed01e",
   "metadata": {},
   "outputs": [
    {
     "name": "stdout",
     "output_type": "stream",
     "text": [
      "P50 + P51 + P52 + P53 = 0.54 + 0.375 + 0.08 + 0.005 = 1.0\n",
      "Вероятность того, что выйдут из строя: а)все детали = 0.005 б)только две детали = 0.08 в)хотя бы одна деталь = 0.46 г)от одной до двух деталей=  0.455\n"
     ]
    }
   ],
   "source": [
    "p1 = 0.1; p2 = 0.2; p3 = 0.25\n",
    "P50=(1-p1)*(1-p2)*(1-p3)\n",
    "P51=p1*(1-p2)*(1-p3)+(1-p1)*p2*(1-p3)+(1-p1)*(1-p2)*p3\n",
    "P52=p1*p2*(1-p3)+p1*(1-p2)*p3+(1-p1)*p2*p3\n",
    "P53=p1*p2*p3\n",
    "print(\"P50 + P51 + P52 + P53 =\", P50, \"+\", P51, \"+\", round(P52, 3), \"+\", round(P53, 3), \"=\", P50+P51+P52+P53)\n",
    "print(\"Вероятность того, что выйдут из строя: а)все детали =\", round(P53, 3), \"б)только две детали =\", round(P52, 3), \"в)хотя бы одна деталь =\", P51+P52+P53, \"г)от одной до двух деталей= \", P51+P52)"
   ]
  }
 ],
 "metadata": {
  "kernelspec": {
   "display_name": "Python 3 (ipykernel)",
   "language": "python",
   "name": "python3"
  },
  "language_info": {
   "codemirror_mode": {
    "name": "ipython",
    "version": 3
   },
   "file_extension": ".py",
   "mimetype": "text/x-python",
   "name": "python",
   "nbconvert_exporter": "python",
   "pygments_lexer": "ipython3",
   "version": "3.9.13"
  }
 },
 "nbformat": 4,
 "nbformat_minor": 5
}
