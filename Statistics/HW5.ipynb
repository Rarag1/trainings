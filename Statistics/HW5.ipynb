{
 "cells": [
  {
   "cell_type": "markdown",
   "id": "5350a92e",
   "metadata": {},
   "source": [
    "#### 1.Когда используется критерий Стьюдента, а когда Z –критерий?<br>\n",
    "Параметрические критерии – это Z, t ( критерий Стьюдента) для сравнения двух выборок. Они предполагают, что выборка взята из нормально распределенной генеральной совокупности, более того предполагают равенство дисперсий в группах.<br>\n",
    "- Z-критерий - известна сигма (или дисперсия) генеральной совокупности\n",
    "- t-критерий (критерий Стьюдента) - если сигма генеральной совокупности неизвестна\n"
   ]
  },
  {
   "cell_type": "markdown",
   "id": "5d897184",
   "metadata": {},
   "source": [
    "#### 2.Проведите тест гипотезы. Утверждается, что шарики для подшипников, изготовленные автоматическим станком, имеют средний диаметр 17 мм. Используя односторонний критерий с α=0,05, проверить эту гипотезу, если в выборке из n=100 шариков средний диаметр оказался равным 17.5 мм, а дисперсия известна и равна 4 кв. мм."
   ]
  },
  {
   "cell_type": "code",
   "execution_count": 1,
   "id": "e174b0f5",
   "metadata": {},
   "outputs": [
    {
     "name": "stdout",
     "output_type": "stream",
     "text": [
      "z = 2.5\n"
     ]
    }
   ],
   "source": [
    "import numpy as np\n",
    "from scipy import stats\n",
    "m=17\n",
    "a=0.05\n",
    "n=100\n",
    "x=17.5\n",
    "d=4\n",
    "z=(x-m)/np.sqrt(d/n)\n",
    "print(\"z =\",z)"
   ]
  },
  {
   "cell_type": "markdown",
   "id": "ba766707",
   "metadata": {},
   "source": [
    "1. H0 -  шарики имеют средний диаметр 17 мм, H1 - шарики имеют средний диаметр 17.5 мм;\n",
    "2. дисперсия известна - используем z-критерий;\n",
    "3. z = 2.5, т.е 17.5 лежит от 17.0 в 2.5 сигмах (стандартных ошибках среднего(SE)) вправо;\n",
    "4. z-табличное для 0.95 лежит в 1.645 сигмах вправо;\n",
    "5. т.е. z-расчетное > z-табличное, и лежит в области альтернативной гипотизы. При а=0.05 отвергаем нулевую гипотезу H0."
   ]
  },
  {
   "cell_type": "markdown",
   "id": "485623f4",
   "metadata": {},
   "source": [
    "#### 3.Проведите тест гипотезы. Продавец утверждает, что средний вес пачки печенья составляет 200 г. Из партии извлечена выборка из 10 пачек. Вес каждой пачки составляет: 202, 203, 199, 197, 195, 201, 200, 204, 194, 190. Известно, что их веса распределены нормально. Верно ли утверждение продавца, если учитывать, что доверительная вероятность равна 99%? (Провести двусторонний тест.)"
   ]
  },
  {
   "cell_type": "code",
   "execution_count": 2,
   "id": "da97c366",
   "metadata": {},
   "outputs": [
    {
     "data": {
      "text/plain": [
       "0.005"
      ]
     },
     "execution_count": 2,
     "metadata": {},
     "output_type": "execute_result"
    }
   ],
   "source": [
    "cookies = np.array([202, 203, 199, 197, 195, 201, 200, 204, 194, 190])\n",
    "m=200\n",
    "n=10\n",
    "a=(100-99)/100/2\n",
    "a"
   ]
  },
  {
   "cell_type": "code",
   "execution_count": 3,
   "id": "b102864d",
   "metadata": {},
   "outputs": [
    {
     "data": {
      "text/plain": [
       "198.5"
      ]
     },
     "execution_count": 3,
     "metadata": {},
     "output_type": "execute_result"
    }
   ],
   "source": [
    "x = cookies.mean()\n",
    "x"
   ]
  },
  {
   "cell_type": "code",
   "execution_count": 4,
   "id": "ea06728b",
   "metadata": {},
   "outputs": [
    {
     "data": {
      "text/plain": [
       "4.453463071962462"
      ]
     },
     "execution_count": 4,
     "metadata": {},
     "output_type": "execute_result"
    }
   ],
   "source": [
    "std_c = cookies.std(ddof=1)\n",
    "std_c"
   ]
  },
  {
   "cell_type": "code",
   "execution_count": 5,
   "id": "1ddcb556",
   "metadata": {},
   "outputs": [
    {
     "data": {
      "text/plain": [
       "-1.0651074037450896"
      ]
     },
     "execution_count": 5,
     "metadata": {},
     "output_type": "execute_result"
    }
   ],
   "source": [
    "tn = (x-m)/(std_c/np.sqrt(n))\n",
    "tn"
   ]
  },
  {
   "cell_type": "markdown",
   "id": "77362981",
   "metadata": {},
   "source": [
    "1. H0 -  средний вес пачки печенья составляет 200 г., H1 - средний вес пачки печенья составляет НЕ 200 г.;\n",
    "2. дисперсия генеральной выборки неизвестна - используем t-критерий;\n",
    "3. t-расчетное = -1.065, т.е x=198.5 лежит от m=200 в -1.065 сигмах (стандартных ошибках среднего(SE)) влево;\n",
    "4. t-табличное для a=0.005 (или же, что равноценно для двухстороннего теста а=0.995) для 9 степеней свободы лежит в 3.250 сигмах влево и вправо;\n",
    "5. т.е. t-расчетное < t-табличное, и лежит в области нулевой гипотизы. При а=0.005 принимаем нулевую гипотезу H0."
   ]
  },
  {
   "cell_type": "markdown",
   "id": "e2c12bfb",
   "metadata": {},
   "source": [
    "#### 4.Есть ли статистически значимые различия в росте дочерей?\n",
    "\n",
    "Рост матерей 172, 177, 158, 170, 178,175, 164, 160, 169, 165\n",
    "\n",
    "Рост взрослых дочерей: 173, 175, 162, 174, 175, 168, 155, 170, 160"
   ]
  },
  {
   "cell_type": "code",
   "execution_count": 6,
   "id": "21498b11",
   "metadata": {},
   "outputs": [
    {
     "data": {
      "text/plain": [
       "168.8"
      ]
     },
     "execution_count": 6,
     "metadata": {},
     "output_type": "execute_result"
    }
   ],
   "source": [
    "mothers=np.array([172, 177, 158, 170, 178, 175, 164, 160, 169, 165])\n",
    "daughters=np.array([173, 175, 162, 174, 175, 168, 155, 170, 160])\n",
    "m=mothers.mean()\n",
    "m"
   ]
  },
  {
   "cell_type": "code",
   "execution_count": 7,
   "id": "9848f874",
   "metadata": {},
   "outputs": [
    {
     "data": {
      "text/plain": [
       "168.0"
      ]
     },
     "execution_count": 7,
     "metadata": {},
     "output_type": "execute_result"
    }
   ],
   "source": [
    "n=daughters.mean()\n",
    "n"
   ]
  },
  {
   "cell_type": "code",
   "execution_count": 8,
   "id": "0a6f4563",
   "metadata": {},
   "outputs": [
    {
     "data": {
      "text/plain": [
       "Ttest_indResult(statistic=0.24400587215969016, pvalue=0.8101467126543231)"
      ]
     },
     "execution_count": 8,
     "metadata": {},
     "output_type": "execute_result"
    }
   ],
   "source": [
    "stats.ttest_ind(mothers,daughters)"
   ]
  },
  {
   "cell_type": "markdown",
   "id": "75c9e3ba",
   "metadata": {},
   "source": [
    "так как длины массивов дочек и матерей не совпадают - функция stats.ttest_rel(mothers,daughters) не работает. Добавим в дочки среднее значение по массиву и посчитаем:"
   ]
  },
  {
   "cell_type": "code",
   "execution_count": 9,
   "id": "2ac90762",
   "metadata": {},
   "outputs": [],
   "source": [
    "mothers=np.array([172, 177, 158, 170, 178, 175, 164, 160, 169, 165])\n",
    "daughters=np.array([173, 175, 162, 174, 175, 168, 155, 170, 160, 168])"
   ]
  },
  {
   "cell_type": "code",
   "execution_count": 10,
   "id": "57e6257f",
   "metadata": {},
   "outputs": [
    {
     "data": {
      "text/plain": [
       "Ttest_relResult(statistic=0.40022240757904204, pvalue=0.6983260526026128)"
      ]
     },
     "execution_count": 10,
     "metadata": {},
     "output_type": "execute_result"
    }
   ],
   "source": [
    "stats.ttest_rel(mothers,daughters)"
   ]
  },
  {
   "cell_type": "markdown",
   "id": "0eb4223f",
   "metadata": {},
   "source": [
    "pvalue=0.70 > a=0.05 - статистически значимых различий в росте дочерей нет."
   ]
  }
 ],
 "metadata": {
  "kernelspec": {
   "display_name": "Python 3 (ipykernel)",
   "language": "python",
   "name": "python3"
  },
  "language_info": {
   "codemirror_mode": {
    "name": "ipython",
    "version": 3
   },
   "file_extension": ".py",
   "mimetype": "text/x-python",
   "name": "python",
   "nbconvert_exporter": "python",
   "pygments_lexer": "ipython3",
   "version": "3.9.13"
  }
 },
 "nbformat": 4,
 "nbformat_minor": 5
}
