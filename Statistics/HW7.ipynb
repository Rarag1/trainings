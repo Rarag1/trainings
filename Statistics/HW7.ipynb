{
 "cells": [
  {
   "cell_type": "markdown",
   "id": "c4a59e03",
   "metadata": {},
   "source": [
    "### Выбрать тест и проверить, есть  ли различия между выборками:\n",
    "##### 1 )  Даны две  независимые выборки. Не соблюдается условие нормальности\n",
    "x1  380,420, 290<br>\n",
    "y1 140,360,200,900<br>\n",
    "Сделайте вывод по результатам, полученным с помощью функции."
   ]
  },
  {
   "cell_type": "code",
   "execution_count": 1,
   "id": "3105c0aa",
   "metadata": {},
   "outputs": [],
   "source": [
    "import numpy as np\n",
    "from scipy import stats\n",
    "x = np.array([380, 420, 290])\n",
    "y = np.array([140, 360, 200, 900])"
   ]
  },
  {
   "cell_type": "code",
   "execution_count": 2,
   "id": "51cc8bfe",
   "metadata": {},
   "outputs": [
    {
     "data": {
      "text/plain": [
       "MannwhitneyuResult(statistic=8.0, pvalue=0.6285714285714286)"
      ]
     },
     "execution_count": 2,
     "metadata": {},
     "output_type": "execute_result"
    }
   ],
   "source": [
    "# используем критерий Манна–Уитни U:\n",
    "# H0: μ1=μ2; H1: μ1≠μ2\n",
    "stats.mannwhitneyu(x,y)"
   ]
  },
  {
   "cell_type": "markdown",
   "id": "f71c0108",
   "metadata": {},
   "source": [
    "pvalue=0.63: следовательно при а=0.05 (что гораздо < pvalue=0.63) **ПРИНИМАЕМ** нулевую гипотезу (H0: μ1=μ2) о том, что статистически значимых различий нет."
   ]
  },
  {
   "cell_type": "markdown",
   "id": "5eee51a6",
   "metadata": {},
   "source": [
    "##### 2 ) Исследовалось влияние препарата на уровень давления пациентов. Сначала измерялось давление до приема препарата, потом через 10 минут и через 30 минут. Есть ли статистически значимые различия?\n",
    "1е измерение до приема препарата: 150, 160, 165, 145, 155<br>\n",
    "2е измерение через 10 минут: 140, 155, 150,  130, 135<br>\n",
    "3е измерение через 30 минут: 130, 130, 120, 130, 125"
   ]
  },
  {
   "cell_type": "code",
   "execution_count": 3,
   "id": "2cc8628e",
   "metadata": {},
   "outputs": [
    {
     "data": {
      "text/plain": [
       "FriedmanchisquareResult(statistic=9.578947368421062, pvalue=0.00831683351100441)"
      ]
     },
     "execution_count": 3,
     "metadata": {},
     "output_type": "execute_result"
    }
   ],
   "source": [
    "# используем критерий Фридмана \"ХИ квадрат\":\n",
    "x1 = np.array([150, 160, 165, 145, 155])\n",
    "x2 = np.array([140, 155, 150, 130, 135])\n",
    "x3 = np.array([130, 130, 120, 130, 125])\n",
    "stats.friedmanchisquare(x1, x2, x3)"
   ]
  },
  {
   "cell_type": "markdown",
   "id": "9887dff6",
   "metadata": {},
   "source": [
    "pvalue=0.008: следовательно при а=0.05 (что > pvalue=0.008) **ОТВЕРГАЕМ** нулевую гипотезу о том, что статистически значимых различий нет и принимаем альтернативную гипотезу, о том, что статистически значимые различия между группами обнаружены."
   ]
  },
  {
   "cell_type": "markdown",
   "id": "8172926d",
   "metadata": {},
   "source": [
    "##### 3 ) Сравните 1 и 2 е измерения, предполагая, что 3го измерения через 30 минут не было."
   ]
  },
  {
   "cell_type": "code",
   "execution_count": 4,
   "id": "130c0651",
   "metadata": {},
   "outputs": [
    {
     "data": {
      "text/plain": [
       "WilcoxonResult(statistic=0.0, pvalue=0.0625)"
      ]
     },
     "execution_count": 4,
     "metadata": {},
     "output_type": "execute_result"
    }
   ],
   "source": [
    "# используем критерий Уилкоксона\n",
    "x1 = np.array([150, 160, 165, 145, 155])\n",
    "x2 = np.array([140, 155, 150, 130, 135])\n",
    "stats.wilcoxon(x1, x2)"
   ]
  },
  {
   "cell_type": "markdown",
   "id": "8f319445",
   "metadata": {},
   "source": [
    "pvalue=0.06: следовательно при а=0.05 (что < pvalue=0.06)  **ПРИНИМАЕМ** нулевую  гипотезу о том, что статистически значимых различий нет."
   ]
  },
  {
   "cell_type": "markdown",
   "id": "058f88e5",
   "metadata": {},
   "source": [
    "##### 4) Даны 3 группы  учеников плавания.\n",
    "В 1 группе время на дистанцию 50 м составляют: 56, 60, 62, 55, 71, 67, 59, 58, 64, 67<br>\n",
    "Вторая группа : 57, 58, 69, 48, 72, 70, 68, 71, 50, 53<br>\n",
    "Третья группа: 57, 67, 49, 48, 47, 55, 66, 51, 54"
   ]
  },
  {
   "cell_type": "code",
   "execution_count": 5,
   "id": "393677c6",
   "metadata": {},
   "outputs": [
    {
     "data": {
      "text/plain": [
       "KruskalResult(statistic=5.465564058257224, pvalue=0.0650380998590494)"
      ]
     },
     "execution_count": 5,
     "metadata": {},
     "output_type": "execute_result"
    }
   ],
   "source": [
    "# используем критерий Крускала-Уоллиса H:\n",
    "x1 = np.array([56, 60, 62, 55, 71, 67, 59, 58, 64, 67])\n",
    "x2 = np.array([57, 58, 69, 48, 72, 70, 68, 71, 50, 53])\n",
    "x3 = np.array([57, 67, 49, 48, 47, 55, 66, 51, 54])\n",
    "stats.kruskal(x1, x2, x3)"
   ]
  },
  {
   "cell_type": "markdown",
   "id": "17da21fa",
   "metadata": {},
   "source": [
    "pvalue=0.065: следовательно при а=0.05 (что < pvalue=0.065)  **ПРИНИМАЕМ** нулевую  гипотезу о том, что статистически значимых различий нет."
   ]
  },
  {
   "cell_type": "markdown",
   "id": "685a3302",
   "metadata": {},
   "source": [
    "##### 5) Заявляется, что партия изготавливается со средним арифметическим 2,5 см. Проверить данную гипотезу, если известно, что размеры изделий подчинены нормальному закону распределения. Объем выборки 10, уровень статистической значимости 5%\n",
    "2.51, 2.35, 2.74, 2.56, 2.40, 2.36, 2.65, 2.7, 2.67, 2.34"
   ]
  },
  {
   "cell_type": "code",
   "execution_count": 6,
   "id": "6056aa05",
   "metadata": {},
   "outputs": [
    {
     "data": {
      "text/plain": [
       "2.5279999999999996"
      ]
     },
     "execution_count": 6,
     "metadata": {},
     "output_type": "execute_result"
    }
   ],
   "source": [
    "X = np.array([2.51, 2.35, 2.74, 2.56, 2.40, 2.36, 2.65, 2.7, 2.67, 2.34])\n",
    "m=2.5\n",
    "n=10\n",
    "a=0.05\n",
    "x=X.mean()\n",
    "x"
   ]
  },
  {
   "cell_type": "code",
   "execution_count": 7,
   "id": "877fd510",
   "metadata": {},
   "outputs": [
    {
     "data": {
      "text/plain": [
       "0.1572542173961923"
      ]
     },
     "execution_count": 7,
     "metadata": {},
     "output_type": "execute_result"
    }
   ],
   "source": [
    "s=X.std(ddof=1)\n",
    "s"
   ]
  },
  {
   "cell_type": "code",
   "execution_count": 8,
   "id": "e9efe08c",
   "metadata": {},
   "outputs": [
    {
     "data": {
      "text/plain": [
       "0.5630613661802959"
      ]
     },
     "execution_count": 8,
     "metadata": {},
     "output_type": "execute_result"
    }
   ],
   "source": [
    "t0 = (x-m)/(s/np.sqrt(n))\n",
    "t0"
   ]
  },
  {
   "cell_type": "code",
   "execution_count": 9,
   "id": "d8a87ee1",
   "metadata": {},
   "outputs": [
    {
     "data": {
      "text/plain": [
       "1.8331129326536335"
      ]
     },
     "execution_count": 9,
     "metadata": {},
     "output_type": "execute_result"
    }
   ],
   "source": [
    "t1 = stats.t.ppf(1-a, n-1) #с доверительной вероятностью 0,95 и степенью свободы 9 (односторонний тест)\n",
    "t1"
   ]
  },
  {
   "cell_type": "code",
   "execution_count": 10,
   "id": "7f589b55",
   "metadata": {},
   "outputs": [
    {
     "data": {
      "text/plain": [
       "-1.8331129326536337"
      ]
     },
     "execution_count": 10,
     "metadata": {},
     "output_type": "execute_result"
    }
   ],
   "source": [
    "t3 = stats.t.ppf(a, n-1) #с доверительной вероятностью 0,05 и степенью свободы 9 (односторонний тест)\n",
    "t3"
   ]
  },
  {
   "cell_type": "code",
   "execution_count": 11,
   "id": "67710b9c",
   "metadata": {},
   "outputs": [
    {
     "data": {
      "text/plain": [
       "2.2621571627409915"
      ]
     },
     "execution_count": 11,
     "metadata": {},
     "output_type": "execute_result"
    }
   ],
   "source": [
    "t2 = stats.t.ppf(1-a/2, n-1) #с доверительной вероятностью 0,95 (для 0.975) и степенью свободы 9 (двусторонний тест)\n",
    "t2"
   ]
  },
  {
   "cell_type": "markdown",
   "id": "053a1d93",
   "metadata": {},
   "source": [
    "1. H0 -  партия изготавливается со средним арифметическим 2,5 см, H1 - партия изготавливается со средним арифметическим НЕ 2,5 см;\n",
    "2. дисперсия генеральной выборки неизвестна - используем t-критерий;\n",
    "3. t-расчетное = 0.563, т.е x=2.53 лежит от m=2.5 в 0.563 сигмах (стандартных ошибках среднего(SE)) вправо;\n",
    "4. t-табличное для 1-а=0.95 (симетрично a=0.05) для 9 степеней свободы лежит в 1.833 сигмах вправо;\n",
    "5. т.е. t-расчетное 0.563 < t-табличное 1.833, и лежит в области нулевой гипотизы. При а=0.05 **ПРИНИМАЕМ** нулевую гипотезу H0."
   ]
  }
 ],
 "metadata": {
  "kernelspec": {
   "display_name": "Python 3 (ipykernel)",
   "language": "python",
   "name": "python3"
  },
  "language_info": {
   "codemirror_mode": {
    "name": "ipython",
    "version": 3
   },
   "file_extension": ".py",
   "mimetype": "text/x-python",
   "name": "python",
   "nbconvert_exporter": "python",
   "pygments_lexer": "ipython3",
   "version": "3.9.13"
  }
 },
 "nbformat": 4,
 "nbformat_minor": 5
}
