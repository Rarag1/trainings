{
 "cells": [
  {
   "cell_type": "markdown",
   "id": "cf6957fa",
   "metadata": {},
   "source": [
    "Условие:\n",
    "\n",
    "1. Вероятность того, что стрелок попадет в мишень, выстрелив один раз, равна 0.8. Стрелок выстрелил 100 раз. \\\n",
    "    -Найдите вероятность того, что стрелок попадет в цель ровно 85 раз.\n",
    "\n",
    "2. Вероятность того, что лампочка перегорит в течение первого дня эксплуатации, равна 0.0004. В жилом комплексе после ремонта в один день включили 5000 новых лампочек. \\\n",
    "    -Какова вероятность, что ни одна из них не перегорит в первый день? \\\n",
    "    -Какова вероятность, что перегорят ровно две?\n",
    "\n",
    "3. Монету подбросили 144 раза. \\\n",
    "    Какова вероятность, что орел выпадет ровно 70 раз?\n",
    "\n",
    "4. В первом ящике находится 10 мячей, из которых 7 - белые. Во втором ящике - 11 мячей, из которых 9 белых. Из каждого ящика вытаскивают случайным образом по два мяча. \\\n",
    "    -Какова вероятность того, что все мячи белые? \\\n",
    "    -Какова вероятность того, что ровно два мяча белые? \\\n",
    "    -Какова вероятность того, что хотя бы один мяч белый?"
   ]
  },
  {
   "cell_type": "code",
   "execution_count": 1,
   "id": "b059fc97",
   "metadata": {},
   "outputs": [],
   "source": [
    "from math import factorial as fact"
   ]
  },
  {
   "cell_type": "code",
   "execution_count": 2,
   "id": "bf828993",
   "metadata": {},
   "outputs": [],
   "source": [
    "from sympy import *\n",
    "init_printing()"
   ]
  },
  {
   "cell_type": "code",
   "execution_count": 3,
   "id": "9372f62e",
   "metadata": {},
   "outputs": [],
   "source": [
    "n = Symbol('n')\n",
    "k = Symbol('k')\n",
    "p = Symbol('p')\n",
    "C = Symbol('C(k,n)')\n",
    "\n",
    "l = Symbol('l')\n",
    "m = Symbol('m')\n",
    "m1 = Symbol('m!')\n",
    "e = Symbol('e')"
   ]
  },
  {
   "cell_type": "markdown",
   "id": "d5fbc397",
   "metadata": {},
   "source": [
    "### Формула Бернулли"
   ]
  },
  {
   "cell_type": "code",
   "execution_count": 4,
   "id": "9d6ec6eb",
   "metadata": {},
   "outputs": [
    {
     "data": {
      "image/png": "[encoded data removed]",
      "text/latex": [
       "$\\displaystyle C(k,n) p^{k} \\left(1 - p\\right)^{- k + n}$"
      ],
      "text/plain": [
       "        k        -k + n\n",
       "C(k,n)⋅p ⋅(1 - p)      "
      ]
     },
     "execution_count": 4,
     "metadata": {},
     "output_type": "execute_result"
    }
   ],
   "source": [
    "P = C * p**k * (1-p)**(n-k)\n",
    "P"
   ]
  },
  {
   "cell_type": "code",
   "execution_count": 5,
   "id": "37713a4e",
   "metadata": {},
   "outputs": [],
   "source": [
    "def Bernulli(n,k,p):\n",
    "    P = fact(n)/(fact(n-k)*fact(k)) * p**k * (1-p)**(n-k)\n",
    "    print(\"P =\",round(P*100,2),\"%\")\n",
    "    return P"
   ]
  },
  {
   "cell_type": "markdown",
   "id": "a1a138ef",
   "metadata": {},
   "source": [
    "### Формула Пуассона"
   ]
  },
  {
   "cell_type": "code",
   "execution_count": 6,
   "id": "3ac6256b",
   "metadata": {},
   "outputs": [
    {
     "data": {
      "image/png": "[encoded data removed]",
      "text/latex": [
       "$\\displaystyle \\frac{e^{- l} l^{m}}{m!}$"
      ],
      "text/plain": [
       " -l  m\n",
       "e  ⋅l \n",
       "──────\n",
       "  m!  "
      ]
     },
     "execution_count": 6,
     "metadata": {},
     "output_type": "execute_result"
    }
   ],
   "source": [
    "P1 = l**m / m1 * e**(-l)\n",
    "P1"
   ]
  },
  {
   "cell_type": "code",
   "execution_count": 7,
   "id": "d841f38e",
   "metadata": {},
   "outputs": [],
   "source": [
    "def Puasson(m,l,e=2.72):\n",
    "    P1 = l**m / fact(m) * e**(-l)\n",
    "    print(\"P1 =\",round(P1*100,2),\"%\")\n",
    "    return P1"
   ]
  },
  {
   "cell_type": "markdown",
   "id": "66a4bad8",
   "metadata": {},
   "source": [
    "### Задача 1"
   ]
  },
  {
   "cell_type": "code",
   "execution_count": 8,
   "id": "d85ee0ed",
   "metadata": {},
   "outputs": [
    {
     "name": "stdout",
     "output_type": "stream",
     "text": [
      "P = 4.81 %\n"
     ]
    },
    {
     "data": {
      "image/png": "[encoded data removed]",
      "text/latex": [
       "$\\displaystyle 0.0480617937007464$"
      ],
      "text/plain": [
       "0.048061793700746355"
      ]
     },
     "execution_count": 8,
     "metadata": {},
     "output_type": "execute_result"
    }
   ],
   "source": [
    "Bernulli(100,85,0.8)"
   ]
  },
  {
   "cell_type": "markdown",
   "id": "81f00fad",
   "metadata": {},
   "source": [
    "### Задача 2"
   ]
  },
  {
   "cell_type": "code",
   "execution_count": 9,
   "id": "c2ff4224",
   "metadata": {},
   "outputs": [
    {
     "name": "stdout",
     "output_type": "stream",
     "text": [
      "P1 = 13.52 %\n",
      "P1 = 27.03 %\n"
     ]
    },
    {
     "data": {
      "image/png": "[encoded data removed]",
      "text/latex": [
       "$\\displaystyle 0.270328719723183$"
      ],
      "text/plain": [
       "0.27032871972318334"
      ]
     },
     "execution_count": 9,
     "metadata": {},
     "output_type": "execute_result"
    }
   ],
   "source": [
    "l=5000*0.0004\n",
    "Puasson(0,l)\n",
    "Puasson(2,l)"
   ]
  },
  {
   "cell_type": "markdown",
   "id": "b389c47a",
   "metadata": {},
   "source": [
    "### Задача 3"
   ]
  },
  {
   "cell_type": "code",
   "execution_count": 10,
   "id": "2be1e99a",
   "metadata": {},
   "outputs": [
    {
     "name": "stdout",
     "output_type": "stream",
     "text": [
      "P = 6.28 %\n"
     ]
    },
    {
     "data": {
      "image/png": "[encoded data removed]",
      "text/latex": [
       "$\\displaystyle 0.0628117803514478$"
      ],
      "text/plain": [
       "0.06281178035144776"
      ]
     },
     "execution_count": 10,
     "metadata": {},
     "output_type": "execute_result"
    }
   ],
   "source": [
    "Bernulli(144,70,0.5)"
   ]
  },
  {
   "cell_type": "markdown",
   "id": "8b4a192e",
   "metadata": {},
   "source": [
    "### Задача 4"
   ]
  },
  {
   "cell_type": "markdown",
   "id": "b23425a5",
   "metadata": {},
   "source": [
    "P41 = C(2;7)*C(0;3)/C(2;10) * C(2;9)*C(0;2)/C(2;11)"
   ]
  },
  {
   "cell_type": "code",
   "execution_count": 11,
   "id": "a1f422b1",
   "metadata": {},
   "outputs": [
    {
     "name": "stdout",
     "output_type": "stream",
     "text": [
      "P41 = 30.55 %\n"
     ]
    }
   ],
   "source": [
    "P41 = ((fact(7)/(fact(2)*fact(5)))/(fact(10)/(fact(2)*fact(8))) * (fact(9)/(fact(2)*fact(7)))/(fact(11)/(fact(2)*fact(9))))\n",
    "print(\"P41 =\",round(P41*100,2),\"%\")"
   ]
  },
  {
   "cell_type": "markdown",
   "id": "74be4c19",
   "metadata": {},
   "source": [
    "P42 = ((C(2;7)*C(0;3))/C(2;10) * (C(0;9)*C(2;2))/C(2;11)) + ((C(1;7)*C(1;3))/C(2;10) * (C(1;9)*C(1;2))/C(2;11)) + ((C(0;7)*C(2;3))/C(2;10) * (C(2;9)*C(0;2))/C(2;11))"
   ]
  },
  {
   "cell_type": "code",
   "execution_count": 12,
   "id": "5ed4ff08",
   "metadata": {},
   "outputs": [
    {
     "name": "stdout",
     "output_type": "stream",
     "text": [
      "P421 = 0.85 %\n",
      "P422 = 15.27 %\n",
      "P423 = 4.36 %\n",
      "P42 = 20.48 %\n"
     ]
    }
   ],
   "source": [
    "P421 = ((fact(7)/(fact(2)*fact(5)))*(fact(3)/(fact(0)*fact(3)))/(fact(10)/(fact(2)*fact(8))) * (fact(9)/(fact(0)*fact(9)))*(fact(2)/(fact(0)*fact(2)))/(fact(11)/(fact(2)*fact(9))))\n",
    "print(\"P421 =\",round(P421*100,2),\"%\")\n",
    "P422 = ((fact(7)/(fact(1)*fact(6)))*(fact(3)/(fact(1)*fact(2)))/(fact(10)/(fact(2)*fact(8))) * (fact(9)/(fact(1)*fact(8)))*(fact(2)/(fact(1)*fact(1)))/(fact(11)/(fact(2)*fact(9))))\n",
    "print(\"P422 =\",round(P422*100,2),\"%\")\n",
    "P423 = ((fact(7)/(fact(0)*fact(7)))*(fact(3)/(fact(2)*fact(1)))/(fact(10)/(fact(2)*fact(8))) * (fact(9)/(fact(2)*fact(7)))*(fact(2)/(fact(0)*fact(2)))/(fact(11)/(fact(2)*fact(9))))\n",
    "print(\"P423 =\",round(P423*100,2),\"%\")\n",
    "P42 = P421+P422+P423\n",
    "print(\"P42 =\",round(P42*100,2),\"%\")"
   ]
  },
  {
   "cell_type": "markdown",
   "id": "b550208a",
   "metadata": {},
   "source": [
    "P43 = 1 -  C(0;7)*C(2;3)/C(2;10) * C(0;9)*C(2;2)/C(2;11)"
   ]
  },
  {
   "cell_type": "code",
   "execution_count": 13,
   "id": "2a9a9ca3",
   "metadata": {},
   "outputs": [
    {
     "name": "stdout",
     "output_type": "stream",
     "text": [
      "P43 = 99.88 %\n"
     ]
    }
   ],
   "source": [
    "P43 = 1 - ((fact(7)/(fact(0)*fact(7)))*(fact(3)/(fact(2)*fact(1)))/(fact(10)/(fact(2)*fact(8))) * (fact(9)/(fact(0)*fact(9)))*(fact(2)/(fact(2)*fact(0)))/(fact(11)/(fact(2)*fact(9))))\n",
    "print(\"P43 =\",round(P43*100,2),\"%\")"
   ]
  }
 ],
 "metadata": {
  "kernelspec": {
   "display_name": "Python 3 (ipykernel)",
   "language": "python",
   "name": "python3"
  },
  "language_info": {
   "codemirror_mode": {
    "name": "ipython",
    "version": 3
   },
   "file_extension": ".py",
   "mimetype": "text/x-python",
   "name": "python",
   "nbconvert_exporter": "python",
   "pygments_lexer": "ipython3",
   "version": "3.9.13"
  }
 },
 "nbformat": 4,
 "nbformat_minor": 5
}
