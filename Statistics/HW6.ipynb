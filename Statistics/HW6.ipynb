{
 "cells": [
  {
   "cell_type": "markdown",
   "id": "de17d934",
   "metadata": {},
   "source": [
    "##### 1.Известно, что генеральная совокупность распределена нормально со средним квадратическим отклонением, равным 16. Найти доверительный интервал для оценки математического ожидания a с надежностью 0.95, если выборочная средняя M = 80, а объем выборки n = 256."
   ]
  },
  {
   "cell_type": "code",
   "execution_count": 1,
   "id": "f3cf64f2",
   "metadata": {},
   "outputs": [],
   "source": [
    "s=16\n",
    "z=1.96 #с надежностью 0.95 (для 0.975)\n",
    "x=80\n",
    "n=256"
   ]
  },
  {
   "cell_type": "code",
   "execution_count": 2,
   "id": "59dae7ff",
   "metadata": {},
   "outputs": [
    {
     "name": "stdout",
     "output_type": "stream",
     "text": [
      "доверительный интервал [ 78.04 : 81.96 ]\n"
     ]
    }
   ],
   "source": [
    "import numpy as np\n",
    "x1=x-z*(s/np.sqrt(n))\n",
    "x2=x+z*(s/np.sqrt(n))\n",
    "print(\"доверительный интервал [\", x1,\":\", x2, \"]\")"
   ]
  },
  {
   "cell_type": "markdown",
   "id": "7a8cb53c",
   "metadata": {},
   "source": [
    "##### 2.В результате 10 независимых измерений некоторой величины X, выполненных с одинаковой точностью, получены опытные данные: 6.9, 6.1, 6.2, 6.8, 7.5, 6.3, 6.4, 6.9, 6.7, 6.1 Предполагая, что результаты измерений подчинены нормальному закону распределения вероятностей, оценить истинное значение величины X при помощи доверительного интервала, покрывающего это значение с доверительной вероятностью 0,95."
   ]
  },
  {
   "cell_type": "code",
   "execution_count": 3,
   "id": "ec9b0bf8",
   "metadata": {},
   "outputs": [
    {
     "data": {
      "text/plain": [
       "6.590000000000001"
      ]
     },
     "execution_count": 3,
     "metadata": {},
     "output_type": "execute_result"
    }
   ],
   "source": [
    "X = np.array([6.9, 6.1, 6.2, 6.8, 7.5, 6.3, 6.4, 6.9, 6.7, 6.1])\n",
    "n = 10\n",
    "x = X.mean()\n",
    "x"
   ]
  },
  {
   "cell_type": "code",
   "execution_count": 4,
   "id": "8815fdf2",
   "metadata": {},
   "outputs": [
    {
     "data": {
      "text/plain": [
       "0.4508017549014448"
      ]
     },
     "execution_count": 4,
     "metadata": {},
     "output_type": "execute_result"
    }
   ],
   "source": [
    "s = X.std(ddof=1)\n",
    "s"
   ]
  },
  {
   "cell_type": "code",
   "execution_count": 5,
   "id": "9c42d23b",
   "metadata": {},
   "outputs": [
    {
     "data": {
      "text/plain": [
       "2.2621571627409915"
      ]
     },
     "execution_count": 5,
     "metadata": {},
     "output_type": "execute_result"
    }
   ],
   "source": [
    "from scipy import stats\n",
    "t = stats.t.ppf(0.975, 9) #с доверительной вероятностью 0,95 (для 0.975) и степенью свободы 9\n",
    "t"
   ]
  },
  {
   "cell_type": "code",
   "execution_count": 6,
   "id": "51978582",
   "metadata": {},
   "outputs": [
    {
     "name": "stdout",
     "output_type": "stream",
     "text": [
      "доверительный интервал [ 6.268 : 6.912 ]\n"
     ]
    }
   ],
   "source": [
    "x1 = x - t * (s / np.sqrt(n))\n",
    "x2 = x + t * (s / np.sqrt(n))\n",
    "print(\"доверительный интервал [\", round(x1,3), \":\", round(x2,3), \"]\")"
   ]
  },
  {
   "cell_type": "markdown",
   "id": "68c09ab6",
   "metadata": {},
   "source": [
    "##### 3.Рост дочерей 175, 167, 154, 174, 178, 148, 160, 167, 169, 170 Рост матерей  178, 165, 165, 173, 168, 155, 160, 164, 178, 175 Используя эти данные построить 95% доверительный интервал для разности среднего роста родителей и детей."
   ]
  },
  {
   "cell_type": "code",
   "execution_count": 7,
   "id": "1173ffa5",
   "metadata": {},
   "outputs": [
    {
     "data": {
      "text/plain": [
       "20"
      ]
     },
     "execution_count": 7,
     "metadata": {},
     "output_type": "execute_result"
    }
   ],
   "source": [
    "X1 = np.array([175, 167, 154, 174, 178, 148, 160, 167, 169, 170])\n",
    "X2 = np.array([178, 165, 165, 173, 168, 155, 160, 164, 178, 175])\n",
    "n1 = 10; n2 = 10\n",
    "n = n1 + n2\n",
    "n"
   ]
  },
  {
   "cell_type": "code",
   "execution_count": 8,
   "id": "ddb971c1",
   "metadata": {},
   "outputs": [
    {
     "data": {
      "text/plain": [
       "166.2"
      ]
     },
     "execution_count": 8,
     "metadata": {},
     "output_type": "execute_result"
    }
   ],
   "source": [
    "x1=X1.mean()\n",
    "x1"
   ]
  },
  {
   "cell_type": "code",
   "execution_count": 9,
   "id": "d9b3b9f4",
   "metadata": {},
   "outputs": [
    {
     "data": {
      "text/plain": [
       "168.1"
      ]
     },
     "execution_count": 9,
     "metadata": {},
     "output_type": "execute_result"
    }
   ],
   "source": [
    "x2=X2.mean()\n",
    "x2"
   ]
  },
  {
   "cell_type": "code",
   "execution_count": 10,
   "id": "12921154",
   "metadata": {},
   "outputs": [
    {
     "data": {
      "text/plain": [
       "1.9000000000000057"
      ]
     },
     "execution_count": 10,
     "metadata": {},
     "output_type": "execute_result"
    }
   ],
   "source": [
    "_x=x2-x1\n",
    "_x"
   ]
  },
  {
   "cell_type": "code",
   "execution_count": 11,
   "id": "94c0ed3f",
   "metadata": {},
   "outputs": [
    {
     "data": {
      "text/plain": [
       "75.58333333333334"
      ]
     },
     "execution_count": 11,
     "metadata": {},
     "output_type": "execute_result"
    }
   ],
   "source": [
    "d=(X1.var(ddof=1)+X2.var(ddof=1))/2\n",
    "d"
   ]
  },
  {
   "cell_type": "code",
   "execution_count": 12,
   "id": "71e6e8fe",
   "metadata": {},
   "outputs": [
    {
     "data": {
      "text/plain": [
       "2.10092204024096"
      ]
     },
     "execution_count": 12,
     "metadata": {},
     "output_type": "execute_result"
    }
   ],
   "source": [
    "t = stats.t.ppf(0.975, n-2)\n",
    "t"
   ]
  },
  {
   "cell_type": "code",
   "execution_count": 13,
   "id": "008741b3",
   "metadata": {},
   "outputs": [
    {
     "name": "stdout",
     "output_type": "stream",
     "text": [
      "доверительный интервал [ -6.268 : 10.068 ]\n"
     ]
    }
   ],
   "source": [
    "_x1 = _x - t * np.sqrt(d/n1+d/n2)\n",
    "_x2 = _x + t * np.sqrt(d/n1+d/n2)\n",
    "print(\"доверительный интервал [\", round(_x1,3), \":\", round(_x2,3), \"]\")"
   ]
  },
  {
   "cell_type": "code",
   "execution_count": 14,
   "id": "be5823a2",
   "metadata": {},
   "outputs": [
    {
     "data": {
      "text/plain": [
       "Ttest_relResult(statistic=0.9461965747745991, pvalue=0.3687577877620867)"
      ]
     },
     "execution_count": 14,
     "metadata": {},
     "output_type": "execute_result"
    }
   ],
   "source": [
    "stats.ttest_rel(X2, X1)"
   ]
  },
  {
   "cell_type": "code",
   "execution_count": 16,
   "id": "3e683ee9",
   "metadata": {},
   "outputs": [
    {
     "data": {
      "text/plain": [
       "Ttest_indResult(statistic=0.488681144818371, pvalue=0.630968124575995)"
      ]
     },
     "execution_count": 16,
     "metadata": {},
     "output_type": "execute_result"
    }
   ],
   "source": [
    "stats.ttest_ind(X2, X1)"
   ]
  }
 ],
 "metadata": {
  "kernelspec": {
   "display_name": "Python 3 (ipykernel)",
   "language": "python",
   "name": "python3"
  },
  "language_info": {
   "codemirror_mode": {
    "name": "ipython",
    "version": 3
   },
   "file_extension": ".py",
   "mimetype": "text/x-python",
   "name": "python",
   "nbconvert_exporter": "python",
   "pygments_lexer": "ipython3",
   "version": "3.9.13"
  }
 },
 "nbformat": 4,
 "nbformat_minor": 5
}
